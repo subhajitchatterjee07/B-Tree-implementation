{
 "cells": [
  {
   "cell_type": "code",
   "execution_count": 1,
   "id": "2f1e031e",
   "metadata": {},
   "outputs": [],
   "source": [
    "class BTreeNode:\n",
    "    def __init__(self, leaf=False):\n",
    "        self.leaf = leaf\n",
    "        self.keys = []\n",
    "        self.children = []"
   ]
  },
  {
   "cell_type": "code",
   "execution_count": 2,
   "id": "e027a227",
   "metadata": {},
   "outputs": [],
   "source": [
    "class BTree:\n",
    "    def __init__(self, t):\n",
    "        self.root = BTreeNode(True)\n",
    "        self.t = t\n",
    "\n",
    "    def insert(self, k):\n",
    "        root = self.root\n",
    "        if len(root.keys) == (2 * self.t) - 1:\n",
    "            new_root = BTreeNode()\n",
    "            self.root = new_root\n",
    "            new_root.children.append(root)\n",
    "            self._split_child(new_root, 0)\n",
    "            self._insert_non_full(new_root, k)\n",
    "        else:\n",
    "            self._insert_non_full(root, k)\n",
    "\n",
    "    def _insert_non_full(self, x, k):\n",
    "        i = len(x.keys) - 1\n",
    "        if x.leaf:\n",
    "            x.keys.append(None)\n",
    "            while i >= 0 and k < x.keys[i]:\n",
    "                x.keys[i + 1] = x.keys[i]\n",
    "                i -= 1\n",
    "            x.keys[i + 1] = k\n",
    "        else:\n",
    "            while i >= 0 and k < x.keys[i]:\n",
    "                i -= 1\n",
    "            i += 1\n",
    "            if len(x.children[i].keys) == (2 * self.t) - 1:\n",
    "                self._split_child(x, i)\n",
    "                if k > x.keys[i]:\n",
    "                    i += 1\n",
    "            self._insert_non_full(x.children[i], k)\n",
    "\n",
    "    def _split_child(self, x, i):\n",
    "        t = self.t\n",
    "        y = x.children[i]\n",
    "        z = BTreeNode(y.leaf)\n",
    "        x.children.insert(i + 1, z)\n",
    "        x.keys.insert(i, y.keys[t - 1])\n",
    "        z.keys = y.keys[t:(2 * t - 1)]\n",
    "        y.keys = y.keys[0:(t - 1)]\n",
    "        if not y.leaf:\n",
    "            z.children = y.children[t:(2 * t)]\n",
    "            y.children = y.children[0:t]\n",
    "\n",
    "    def search(self, k, x=None):\n",
    "        if x is None:\n",
    "            x = self.root\n",
    "        i = 0\n",
    "        while i < len(x.keys) and k > x.keys[i]:\n",
    "            i += 1\n",
    "        if i < len(x.keys) and k == x.keys[i]:\n",
    "            return True\n",
    "        elif x.leaf:\n",
    "            return False\n",
    "        else:\n",
    "            return self.search(k, x.children[i])\n",
    "\n",
    "    def print_tree(self, x=None, level=0):\n",
    "        if x is None:\n",
    "            x = self.root\n",
    "        print(f\"Level {level}: {x.keys}\")\n",
    "        if not x.leaf:\n",
    "            for i in range(len(x.children)):\n",
    "                self.print_tree(x.children[i], level + 1)\n"
   ]
  },
  {
   "cell_type": "code",
   "execution_count": 3,
   "id": "e50f7a39",
   "metadata": {},
   "outputs": [
    {
     "name": "stdout",
     "output_type": "stream",
     "text": [
      "Level 0: [15, 30, 45]\n",
      "Level 1: [5, 10]\n",
      "Level 1: [20, 25]\n",
      "Level 1: [35, 40]\n",
      "Level 1: [50, 55, 60]\n",
      "Key 35 found in the B-tree\n"
     ]
    }
   ],
   "source": [
    "if __name__ == \"__main__\":\n",
    "    B = BTree(3)\n",
    "    keys = [5, 10, 15, 20, 25, 30, 35, 40, 45, 50, 55, 60]\n",
    "    for key in keys:\n",
    "        B.insert(key)\n",
    "\n",
    "    B.print_tree()\n",
    "\n",
    "    search_key = 35\n",
    "    if B.search(search_key):\n",
    "        print(f\"Key {search_key} found in the B-tree\")\n",
    "    else:\n",
    "        print(f\"Key {search_key} not found in the B-tree\")"
   ]
  },
  {
   "cell_type": "code",
   "execution_count": null,
   "id": "b0f3a556",
   "metadata": {},
   "outputs": [],
   "source": []
  },
  {
   "cell_type": "code",
   "execution_count": null,
   "id": "5e13776b",
   "metadata": {},
   "outputs": [],
   "source": []
  },
  {
   "cell_type": "code",
   "execution_count": null,
   "id": "bb743f0d",
   "metadata": {},
   "outputs": [],
   "source": []
  }
 ],
 "metadata": {
  "kernelspec": {
   "display_name": "Python 3 (ipykernel)",
   "language": "python",
   "name": "python3"
  },
  "language_info": {
   "codemirror_mode": {
    "name": "ipython",
    "version": 3
   },
   "file_extension": ".py",
   "mimetype": "text/x-python",
   "name": "python",
   "nbconvert_exporter": "python",
   "pygments_lexer": "ipython3",
   "version": "3.11.5"
  }
 },
 "nbformat": 4,
 "nbformat_minor": 5
}
